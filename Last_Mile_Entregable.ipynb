{
  "nbformat": 4,
  "nbformat_minor": 0,
  "metadata": {
    "colab": {
      "provenance": [],
      "authorship_tag": "ABX9TyM23C2BqlzCGDsCTtkbqLNX",
      "include_colab_link": true
    },
    "kernelspec": {
      "name": "python3",
      "display_name": "Python 3"
    },
    "language_info": {
      "name": "python"
    }
  },
  "cells": [
    {
      "cell_type": "markdown",
      "metadata": {
        "id": "view-in-github",
        "colab_type": "text"
      },
      "source": [
        "<a href=\"https://colab.research.google.com/github/EddiRafael/Clase_desarrollo_proyectos/blob/main/Last_Mile_Entregable.ipynb\" target=\"_parent\"><img src=\"https://colab.research.google.com/assets/colab-badge.svg\" alt=\"Open In Colab\"/></a>"
      ]
    },
    {
      "cell_type": "code",
      "execution_count": 119,
      "metadata": {
        "id": "ZwG2bj8LyrMG"
      },
      "outputs": [],
      "source": [
        "import pandas as pd\n",
        "import numpy as np\n",
        "import matplotlib.pyplot as plt\n",
        "import scipy.special as special \n",
        "from scipy.optimize import curve_fit\n",
        "import seaborn as sns\n",
        "from sklearn.metrics import r2_score\n",
        "from sklearn.model_selection import train_test_split\n",
        "from sklearn.preprocessing import StandardScaler"
      ]
    },
    {
      "cell_type": "code",
      "source": [
        "# Cargar archivo csv desde equipo\n",
        "from google.colab import files\n",
        "files.upload()"
      ],
      "metadata": {
        "id": "4hmMPyuyzdaa"
      },
      "execution_count": null,
      "outputs": []
    },
    {
      "cell_type": "code",
      "source": [
        "#Carga desde un archivo .xlsx sin indice\n",
        "lm= pd.read_excel('lastmile_delivery_operations_mit_lift_lab.xlsx')"
      ],
      "metadata": {
        "id": "QpIkMM6L032K"
      },
      "execution_count": null,
      "outputs": []
    },
    {
      "cell_type": "code",
      "source": [
        "lm.info()"
      ],
      "metadata": {
        "id": "rgZdfhCA2sC3"
      },
      "execution_count": null,
      "outputs": []
    },
    {
      "cell_type": "code",
      "source": [
        "vn=lm.isnull().sum()\n",
        "vn"
      ],
      "metadata": {
        "id": "wPHOvInL2r45"
      },
      "execution_count": null,
      "outputs": []
    },
    {
      "cell_type": "code",
      "source": [
        "vn=lm.isnull().sum().sum()\n",
        "vn"
      ],
      "metadata": {
        "colab": {
          "base_uri": "https://localhost:8080/"
        },
        "id": "ACTwxxD73LWW",
        "outputId": "18339117-83c8-4cb2-9b23-2dbb82f10b27"
      },
      "execution_count": null,
      "outputs": [
        {
          "output_type": "execute_result",
          "data": {
            "text/plain": [
              "1233"
            ]
          },
          "metadata": {},
          "execution_count": 38
        }
      ]
    },
    {
      "cell_type": "code",
      "source": [
        "lm1=lm.fillna(method=\"ffill\")\n",
        "lm1"
      ],
      "metadata": {
        "id": "VT7Hw0gI3Q3z"
      },
      "execution_count": null,
      "outputs": []
    },
    {
      "cell_type": "code",
      "source": [
        "vn=lm1.isnull().sum()\n",
        "vn"
      ],
      "metadata": {
        "id": "SbfLcEb43ZOl"
      },
      "execution_count": null,
      "outputs": []
    },
    {
      "cell_type": "code",
      "source": [
        "lm2=lm1.copy()"
      ],
      "metadata": {
        "id": "1glCnhC99ppx"
      },
      "execution_count": null,
      "outputs": []
    },
    {
      "cell_type": "code",
      "source": [
        "lm2[\"serving_customer\"]=lm2[\"serving_customer\"].fillna(round(lm2[\"serving_customer\"].mean(),1))"
      ],
      "metadata": {
        "id": "Cag-kSus9rrB"
      },
      "execution_count": null,
      "outputs": []
    },
    {
      "cell_type": "code",
      "source": [
        "lm2[\"maximum_number_of_vehicles_in_the_traffic_jam\"]=lm2[\"maximum_number_of_vehicles_in_the_traffic_jam\"].fillna(round(lm2[\"maximum_number_of_vehicles_in_the_traffic_jam\"].mean(),1))"
      ],
      "metadata": {
        "id": "dfHAGEms-bSN"
      },
      "execution_count": null,
      "outputs": []
    },
    {
      "cell_type": "code",
      "source": [
        "lm2[\"describe_the_accident\"]=lm2[\"describe_the_accident\"].fillna(round(lm2[\"describe_the_accident\"].mean(),1))"
      ],
      "metadata": {
        "id": "DgnDDFuY-nTh"
      },
      "execution_count": null,
      "outputs": []
    },
    {
      "cell_type": "code",
      "source": [
        "vn=lm2.isnull().sum()\n",
        "vn"
      ],
      "metadata": {
        "id": "RhfedKff-0A_"
      },
      "execution_count": null,
      "outputs": []
    },
    {
      "cell_type": "code",
      "source": [
        "lm2[\"describe_the_accident\"]=lm2[\"describe_the_accident\"].fillna('nulo')"
      ],
      "metadata": {
        "id": "4YzJl7MKFkq-"
      },
      "execution_count": null,
      "outputs": []
    },
    {
      "cell_type": "code",
      "source": [
        "vn=lm2.isnull().sum()\n",
        "vn"
      ],
      "metadata": {
        "id": "VhCjSBnYHBgR"
      },
      "execution_count": null,
      "outputs": []
    },
    {
      "cell_type": "code",
      "source": [
        "lm2[\"company_if_visible\"]=lm2[\"company_if_visible\"].fillna(0)"
      ],
      "metadata": {
        "id": "GcmfSTjBIBGR"
      },
      "execution_count": null,
      "outputs": []
    },
    {
      "cell_type": "code",
      "source": [
        "vn=lm2.isnull().sum()\n",
        "vn"
      ],
      "metadata": {
        "id": "nJjBWZGuIN0t"
      },
      "execution_count": null,
      "outputs": []
    },
    {
      "cell_type": "code",
      "source": [
        "vn=lm2.isnull().sum().sum()\n",
        "vn"
      ],
      "metadata": {
        "colab": {
          "base_uri": "https://localhost:8080/"
        },
        "id": "p9sH6ybPjYol",
        "outputId": "c44dbd9e-fe21-47c7-9b54-200d92c3598e"
      },
      "execution_count": 199,
      "outputs": [
        {
          "output_type": "execute_result",
          "data": {
            "text/plain": [
              "0"
            ]
          },
          "metadata": {},
          "execution_count": 199
        }
      ]
    },
    {
      "cell_type": "markdown",
      "source": [
        "OUTLIERS"
      ],
      "metadata": {
        "id": "oAQXQrYKIck8"
      }
    },
    {
      "cell_type": "code",
      "source": [
        "f=lm2.iloc[:,[6,7,13,22,23,26,29]]\n",
        "f"
      ],
      "metadata": {
        "id": "VsVtZkGJIUam"
      },
      "execution_count": null,
      "outputs": []
    },
    {
      "cell_type": "code",
      "source": [
        "y=f\n",
        "LS=y.mean()+3*y.std()\n",
        "LI=y.mean()-3*y.std()\n",
        "print(\"Limite Superior Permitido\",LS)\n",
        "print(\"Limite Inferior Permitido\",LI)"
      ],
      "metadata": {
        "id": "_2XlNSzfJlP6"
      },
      "execution_count": null,
      "outputs": []
    },
    {
      "cell_type": "code",
      "source": [
        "o=f[(y>LS)|(y<LI)]\n",
        "o"
      ],
      "metadata": {
        "id": "noVdUzofKH3w"
      },
      "execution_count": null,
      "outputs": []
    },
    {
      "cell_type": "code",
      "source": [
        "dataf=f[(y>=LS)&(y>=LI)]\n",
        "dataf"
      ],
      "metadata": {
        "id": "Q4QpJL61KY2Z"
      },
      "execution_count": null,
      "outputs": []
    },
    {
      "cell_type": "code",
      "source": [
        "vn=dataf.isnull().sum()\n",
        "vn"
      ],
      "metadata": {
        "id": "JZqKPKRuKuzV"
      },
      "execution_count": null,
      "outputs": []
    },
    {
      "cell_type": "code",
      "source": [
        "dataf2=dataf.fillna(method=\"ffill\")\n",
        "dataf2"
      ],
      "metadata": {
        "id": "mvFcd8RDK0cz"
      },
      "execution_count": null,
      "outputs": []
    },
    {
      "cell_type": "code",
      "source": [
        "vn=dataf2.isnull().sum()\n",
        "vn"
      ],
      "metadata": {
        "id": "DUMaCqx2K7dW"
      },
      "execution_count": null,
      "outputs": []
    },
    {
      "cell_type": "code",
      "source": [
        "dataf2[\"_latitude\"]=dataf2[\"_latitude\"].fillna('nulo')"
      ],
      "metadata": {
        "id": "UKrJrw5sLWx0"
      },
      "execution_count": null,
      "outputs": []
    },
    {
      "cell_type": "code",
      "source": [
        "dataf2[\"_longitude\"]=dataf2[\"_longitude\"].fillna('nulo')"
      ],
      "metadata": {
        "id": "AxkMJQjGM2NV"
      },
      "execution_count": null,
      "outputs": []
    },
    {
      "cell_type": "code",
      "source": [
        "dataf2[\"number_of_operators\"]=dataf2[\"number_of_operators\"].fillna(round(dataf2[\"number_of_operators\"].mean(),1))"
      ],
      "metadata": {
        "id": "gVZgNMzcM-Lp"
      },
      "execution_count": null,
      "outputs": []
    },
    {
      "cell_type": "code",
      "source": [
        "dataf2[\"number_of_available_trolleys\"]=dataf2[\"number_of_available_trolleys\"].fillna(round(dataf2[\"number_of_available_trolleys\"].mean(),1))"
      ],
      "metadata": {
        "id": "ovNN8TxNNGJa"
      },
      "execution_count": null,
      "outputs": []
    },
    {
      "cell_type": "code",
      "source": [
        "dataf2[\"maximum_number_of_vehicles_in_the_traffic_jam\"]=dataf2[\"maximum_number_of_vehicles_in_the_traffic_jam\"].fillna(round(dataf2[\"maximum_number_of_vehicles_in_the_traffic_jam\"].mean(),1))"
      ],
      "metadata": {
        "id": "EswIhQR5NMJ6"
      },
      "execution_count": null,
      "outputs": []
    },
    {
      "cell_type": "code",
      "source": [
        "vn=dataf2.isnull().sum()\n",
        "vn"
      ],
      "metadata": {
        "id": "X9IaC7YrNSTX"
      },
      "execution_count": null,
      "outputs": []
    },
    {
      "cell_type": "code",
      "source": [
        "fig=plt.figure(figsize=(15,8))\n",
        "dataf2.plot(kind='box',vert=False)\n",
        "plt.title(\"Valores Atipicos del Dataframe\")\n",
        "plt.show()"
      ],
      "metadata": {
        "id": "z2Ak3zLUNyZw"
      },
      "execution_count": null,
      "outputs": []
    },
    {
      "cell_type": "code",
      "source": [
        "f2=lm2.iloc[:,[0,1,2,3,4,5,8,9,10,11,12,14,15,16,17,18,19,20,21,24,25,27,28]]"
      ],
      "metadata": {
        "id": "ZhhxVfQgOEmu"
      },
      "execution_count": null,
      "outputs": []
    },
    {
      "cell_type": "code",
      "source": [
        "Datos_lim=pd.concat([f,f2],axis=1)\n",
        "Datos_lim"
      ],
      "metadata": {
        "id": "tgR11-rLOqYN"
      },
      "execution_count": null,
      "outputs": []
    },
    {
      "cell_type": "code",
      "source": [
        "vn=Datos_lim.isnull().sum()\n",
        "vn"
      ],
      "metadata": {
        "id": "9kZeA7kTO6J0",
        "colab": {
          "base_uri": "https://localhost:8080/"
        },
        "outputId": "d55842eb-3599-4a85-a10a-0b4fdb62170c"
      },
      "execution_count": 202,
      "outputs": [
        {
          "output_type": "execute_result",
          "data": {
            "text/plain": [
              "_latitude                                        0\n",
              "_longitude                                       0\n",
              "number_of_operators                              0\n",
              "number_of_available_trolleys                     0\n",
              "serving_customer                                 0\n",
              "describe_the_accident                            0\n",
              "maximum_number_of_vehicles_in_the_traffic_jam    0\n",
              "_record_id                                       0\n",
              "_title                                           0\n",
              "_server_updated_at                               0\n",
              "_created_by                                      0\n",
              "_updated_by                                      0\n",
              "_geometry                                        0\n",
              "arrival_of_the_freight_vehicle                   0\n",
              "plates                                           0\n",
              "company_if_visible                               0\n",
              "visit_purpose                                    0\n",
              "type_of_vehicle                                  0\n",
              "refrigerated_truck                               0\n",
              "type_of_cargo                                    0\n",
              "picture_of_the_parked_freight_vehicle            0\n",
              "departure_of_the_freight_vehicle                 0\n",
              "where_was_the_vehicle_parked                     0\n",
              "while_parked_was_the_engine_running              0\n",
              "used_traffic_cone                                0\n",
              "vehicles_unloading_door                          0\n",
              "garage_blocking                                  0\n",
              "accident                                         0\n",
              "noise                                            0\n",
              "traffic_congestion                               0\n",
              "dtype: int64"
            ]
          },
          "metadata": {},
          "execution_count": 202
        }
      ]
    },
    {
      "cell_type": "code",
      "source": [
        "vn=Datos_lim.isnull().sum().sum()\n",
        "vn"
      ],
      "metadata": {
        "colab": {
          "base_uri": "https://localhost:8080/"
        },
        "id": "169uN1LGm5ES",
        "outputId": "109d9f44-83fb-4287-d421-0cc0a2600fe1"
      },
      "execution_count": 201,
      "outputs": [
        {
          "output_type": "execute_result",
          "data": {
            "text/plain": [
              "0"
            ]
          },
          "metadata": {},
          "execution_count": 201
        }
      ]
    },
    {
      "cell_type": "code",
      "source": [
        "Datos_lim.to_csv(\"Datos_limpios.csv\")"
      ],
      "metadata": {
        "id": "1shVbfxTPYjP"
      },
      "execution_count": null,
      "outputs": []
    },
    {
      "cell_type": "code",
      "source": [
        "from google.colab import files\n",
        "files.download(\"Datos_limpios.csv\")"
      ],
      "metadata": {
        "colab": {
          "base_uri": "https://localhost:8080/",
          "height": 17
        },
        "id": "LzHIny9iR6SP",
        "outputId": "d87df053-838e-4a12-b472-f72288c57af0"
      },
      "execution_count": null,
      "outputs": [
        {
          "output_type": "display_data",
          "data": {
            "text/plain": [
              "<IPython.core.display.Javascript object>"
            ],
            "application/javascript": [
              "\n",
              "    async function download(id, filename, size) {\n",
              "      if (!google.colab.kernel.accessAllowed) {\n",
              "        return;\n",
              "      }\n",
              "      const div = document.createElement('div');\n",
              "      const label = document.createElement('label');\n",
              "      label.textContent = `Downloading \"${filename}\": `;\n",
              "      div.appendChild(label);\n",
              "      const progress = document.createElement('progress');\n",
              "      progress.max = size;\n",
              "      div.appendChild(progress);\n",
              "      document.body.appendChild(div);\n",
              "\n",
              "      const buffers = [];\n",
              "      let downloaded = 0;\n",
              "\n",
              "      const channel = await google.colab.kernel.comms.open(id);\n",
              "      // Send a message to notify the kernel that we're ready.\n",
              "      channel.send({})\n",
              "\n",
              "      for await (const message of channel.messages) {\n",
              "        // Send a message to notify the kernel that we're ready.\n",
              "        channel.send({})\n",
              "        if (message.buffers) {\n",
              "          for (const buffer of message.buffers) {\n",
              "            buffers.push(buffer);\n",
              "            downloaded += buffer.byteLength;\n",
              "            progress.value = downloaded;\n",
              "          }\n",
              "        }\n",
              "      }\n",
              "      const blob = new Blob(buffers, {type: 'application/binary'});\n",
              "      const a = document.createElement('a');\n",
              "      a.href = window.URL.createObjectURL(blob);\n",
              "      a.download = filename;\n",
              "      div.appendChild(a);\n",
              "      a.click();\n",
              "      div.remove();\n",
              "    }\n",
              "  "
            ]
          },
          "metadata": {}
        },
        {
          "output_type": "display_data",
          "data": {
            "text/plain": [
              "<IPython.core.display.Javascript object>"
            ],
            "application/javascript": [
              "download(\"download_a52a8aaa-96b1-40dc-9f9d-0d1e5e5b0857\", \"Datos_limpios.csv\", 161481)"
            ]
          },
          "metadata": {}
        }
      ]
    },
    {
      "cell_type": "markdown",
      "source": [
        "EXTRACCION DE CARACTERISTICAS "
      ],
      "metadata": {
        "id": "q2l-SPLfSJ4t"
      }
    },
    {
      "cell_type": "code",
      "source": [
        "#Instalamos librería para análisis de variables categóricas\n",
        "%pip install funpymodeling"
      ],
      "metadata": {
        "id": "KTaUWTLIXuBM"
      },
      "execution_count": null,
      "outputs": []
    },
    {
      "cell_type": "code",
      "source": [
        "# Importamos librerias pandas, numpy y matplotlib\n",
        "import pandas as pd\n",
        "import numpy as np\n",
        "import matplotlib.pyplot as plt\n",
        "from funpymodeling.exploratory import freq_tbl"
      ],
      "metadata": {
        "id": "Z3SmSHhsWnou"
      },
      "execution_count": 122,
      "outputs": []
    },
    {
      "cell_type": "code",
      "source": [
        "from google.colab import files \n",
        "files.upload()"
      ],
      "metadata": {
        "id": "GRYHM4RXSE6q"
      },
      "execution_count": null,
      "outputs": []
    },
    {
      "cell_type": "code",
      "source": [
        "# Carga desde un archivo csv sin índice\n",
        "LL=pd.read_csv('Datos_limpios.csv')"
      ],
      "metadata": {
        "id": "cD-GlMoTVATg"
      },
      "execution_count": 116,
      "outputs": []
    },
    {
      "cell_type": "code",
      "source": [
        "LL.info()"
      ],
      "metadata": {
        "colab": {
          "base_uri": "https://localhost:8080/"
        },
        "id": "_QdCCjcIZkzu",
        "outputId": "7b6a8842-e01e-40b3-da63-9635c3a1b61c"
      },
      "execution_count": 151,
      "outputs": [
        {
          "output_type": "stream",
          "name": "stdout",
          "text": [
            "<class 'pandas.core.frame.DataFrame'>\n",
            "RangeIndex: 390 entries, 0 to 389\n",
            "Data columns (total 31 columns):\n",
            " #   Column                                         Non-Null Count  Dtype  \n",
            "---  ------                                         --------------  -----  \n",
            " 0   Unnamed: 0                                     390 non-null    int64  \n",
            " 1   _latitude                                      390 non-null    float64\n",
            " 2   _longitude                                     390 non-null    float64\n",
            " 3   number_of_operators                            390 non-null    int64  \n",
            " 4   number_of_available_trolleys                   390 non-null    int64  \n",
            " 5   serving_customer                               390 non-null    float64\n",
            " 6   describe_the_accident                          390 non-null    float64\n",
            " 7   maximum_number_of_vehicles_in_the_traffic_jam  390 non-null    float64\n",
            " 8   _record_id                                     390 non-null    object \n",
            " 9   _title                                         390 non-null    object \n",
            " 10  _server_updated_at                             390 non-null    object \n",
            " 11  _created_by                                    390 non-null    object \n",
            " 12  _updated_by                                    390 non-null    object \n",
            " 13  _geometry                                      390 non-null    object \n",
            " 14  arrival_of_the_freight_vehicle                 390 non-null    object \n",
            " 15  plates                                         390 non-null    object \n",
            " 16  company_if_visible                             390 non-null    object \n",
            " 17  visit_purpose                                  390 non-null    object \n",
            " 18  type_of_vehicle                                390 non-null    object \n",
            " 19  refrigerated_truck                             390 non-null    object \n",
            " 20  type_of_cargo                                  390 non-null    object \n",
            " 21  picture_of_the_parked_freight_vehicle          390 non-null    object \n",
            " 22  departure_of_the_freight_vehicle               390 non-null    object \n",
            " 23  where_was_the_vehicle_parked                   390 non-null    object \n",
            " 24  while_parked_was_the_engine_running            390 non-null    object \n",
            " 25  used_traffic_cone                              390 non-null    object \n",
            " 26  vehicles_unloading_door                        390 non-null    object \n",
            " 27  garage_blocking                                390 non-null    object \n",
            " 28  accident                                       390 non-null    object \n",
            " 29  noise                                          390 non-null    object \n",
            " 30  traffic_congestion                             390 non-null    object \n",
            "dtypes: float64(5), int64(3), object(23)\n",
            "memory usage: 94.6+ KB\n"
          ]
        }
      ]
    },
    {
      "cell_type": "code",
      "source": [
        "LL.head()"
      ],
      "metadata": {
        "id": "s0aDlv6fZtGI"
      },
      "execution_count": null,
      "outputs": []
    },
    {
      "cell_type": "code",
      "source": [
        "freq_tbl(LL)"
      ],
      "metadata": {
        "id": "YERZF476VYHV"
      },
      "execution_count": null,
      "outputs": []
    },
    {
      "cell_type": "code",
      "source": [
        "table1= freq_tbl(LL['vehicles_unloading_door'])\n",
        "table1"
      ],
      "metadata": {
        "id": "Fn97y9CYYBED"
      },
      "execution_count": null,
      "outputs": []
    },
    {
      "cell_type": "code",
      "source": [
        "Filtro1= table1[table1['frequency']>1]\n",
        "Filtro1"
      ],
      "metadata": {
        "id": "oEWs4bp6Yaaw"
      },
      "execution_count": null,
      "outputs": []
    },
    {
      "cell_type": "code",
      "source": [
        "Filtro1_index= Filtro.set_index('vehicles_unloading_door')\n",
        "Filtro1_index"
      ],
      "metadata": {
        "id": "bRZP-SsgYskn"
      },
      "execution_count": null,
      "outputs": []
    },
    {
      "cell_type": "code",
      "source": [
        "#Realizamos grafico de pastel del dataframe filtrado\n",
        "Filtro1_index[\"frequency\"].plot(kind='pie', figsize=(10,5), shadow=True, autopct=\"%0.1f %%\")"
      ],
      "metadata": {
        "colab": {
          "base_uri": "https://localhost:8080/",
          "height": 320
        },
        "id": "Cz1VVQ6pYuOz",
        "outputId": "b979bb9e-26c6-4dbc-bd75-a146204f7008"
      },
      "execution_count": 175,
      "outputs": [
        {
          "output_type": "execute_result",
          "data": {
            "text/plain": [
              "<matplotlib.axes._subplots.AxesSubplot at 0x7fc9611bcb50>"
            ]
          },
          "metadata": {},
          "execution_count": 175
        },
        {
          "output_type": "display_data",
          "data": {
            "text/plain": [
              "<Figure size 720x360 with 1 Axes>"
            ],
            "image/png": "[encoded data removed]"
          },
          "metadata": {}
        }
      ]
    },
    {
      "cell_type": "code",
      "source": [
        "table2= freq_tbl(LL['while_parked_was_the_engine_running'])\n",
        "table2"
      ],
      "metadata": {
        "id": "AJiVx8l6c5ZI"
      },
      "execution_count": null,
      "outputs": []
    },
    {
      "cell_type": "code",
      "source": [
        "Filtro2= table2[table2['frequency']>1]\n",
        "Filtro2"
      ],
      "metadata": {
        "id": "6gHQMFP0dSFj"
      },
      "execution_count": null,
      "outputs": []
    },
    {
      "cell_type": "code",
      "source": [
        "Filtro2_index= Filtro2.set_index('while_parked_was_the_engine_running')\n",
        "Filtro2_index"
      ],
      "metadata": {
        "id": "WFlb_A1vdcHi"
      },
      "execution_count": null,
      "outputs": []
    },
    {
      "cell_type": "code",
      "source": [
        "#Realizamos grafico de pastel del dataframe filtrado\n",
        "Filtro2_index[\"frequency\"].plot(kind='pie', figsize=(10,5), shadow=True, autopct=\"%0.1f %%\")"
      ],
      "metadata": {
        "colab": {
          "base_uri": "https://localhost:8080/",
          "height": 320
        },
        "id": "2aoGK87WdsEw",
        "outputId": "aa74ef22-c356-41d1-a4f8-4e5ba4ed36c1"
      },
      "execution_count": 180,
      "outputs": [
        {
          "output_type": "execute_result",
          "data": {
            "text/plain": [
              "<matplotlib.axes._subplots.AxesSubplot at 0x7fc961142a90>"
            ]
          },
          "metadata": {},
          "execution_count": 180
        },
        {
          "output_type": "display_data",
          "data": {
            "text/plain": [
              "<Figure size 720x360 with 1 Axes>"
            ],
            "image/png": "[encoded data removed]"
          },
          "metadata": {}
        }
      ]
    },
    {
      "cell_type": "code",
      "source": [
        "table3= freq_tbl(LL['garage_blocking'])\n",
        "table3"
      ],
      "metadata": {
        "id": "GWmEO-5JfE6s"
      },
      "execution_count": null,
      "outputs": []
    },
    {
      "cell_type": "code",
      "source": [
        "Filtro3= table3[table3['frequency']>1]\n",
        "Filtro3"
      ],
      "metadata": {
        "id": "d-NX0aLQfzsM"
      },
      "execution_count": null,
      "outputs": []
    },
    {
      "cell_type": "code",
      "source": [
        "Filtro3_index= Filtro3.set_index('garage_blocking')\n",
        "Filtro3_index"
      ],
      "metadata": {
        "id": "ON5b-9ngf-Nn"
      },
      "execution_count": null,
      "outputs": []
    },
    {
      "cell_type": "code",
      "source": [
        "#Realizamos grafico de pastel del dataframe filtrado\n",
        "Filtro3_index[\"frequency\"].plot(kind='pie', figsize=(10,5), shadow=True, autopct=\"%0.1f %%\")"
      ],
      "metadata": {
        "colab": {
          "base_uri": "https://localhost:8080/",
          "height": 320
        },
        "id": "U96z55W8gN1S",
        "outputId": "ffe91657-7426-40db-c0fb-fc30fc566f6e"
      },
      "execution_count": 186,
      "outputs": [
        {
          "output_type": "execute_result",
          "data": {
            "text/plain": [
              "<matplotlib.axes._subplots.AxesSubplot at 0x7fc9610f3890>"
            ]
          },
          "metadata": {},
          "execution_count": 186
        },
        {
          "output_type": "display_data",
          "data": {
            "text/plain": [
              "<Figure size 720x360 with 1 Axes>"
            ],
            "image/png": "[encoded data removed]"
          },
          "metadata": {}
        }
      ]
    },
    {
      "cell_type": "code",
      "source": [
        "table4= freq_tbl(LL['traffic_congestion'])\n",
        "table4"
      ],
      "metadata": {
        "id": "3ygndC6rgWZj"
      },
      "execution_count": null,
      "outputs": []
    },
    {
      "cell_type": "code",
      "source": [
        "Filtro4= table4[table3['frequency']>1]\n",
        "Filtro4"
      ],
      "metadata": {
        "id": "_2cPTA3tgau6"
      },
      "execution_count": null,
      "outputs": []
    },
    {
      "cell_type": "code",
      "source": [
        "Filtro4_index= Filtro4.set_index('traffic_congestion')\n",
        "Filtro4_index"
      ],
      "metadata": {
        "id": "ABIOUE3xgaju"
      },
      "execution_count": null,
      "outputs": []
    },
    {
      "cell_type": "code",
      "source": [
        "#Realizamos grafico de pastel del dataframe filtrado\n",
        "Filtro4_index[\"frequency\"].plot(kind='pie', figsize=(10,5), shadow=True, autopct=\"%0.1f %%\")"
      ],
      "metadata": {
        "colab": {
          "base_uri": "https://localhost:8080/",
          "height": 320
        },
        "id": "gg4Xt7MbgaZU",
        "outputId": "aa268e06-e6aa-453c-8c71-d0d3656a3895"
      },
      "execution_count": 196,
      "outputs": [
        {
          "output_type": "execute_result",
          "data": {
            "text/plain": [
              "<matplotlib.axes._subplots.AxesSubplot at 0x7fc960fe1910>"
            ]
          },
          "metadata": {},
          "execution_count": 196
        },
        {
          "output_type": "display_data",
          "data": {
            "text/plain": [
              "<Figure size 720x360 with 1 Axes>"
            ],
            "image/png": "[encoded data removed]"
          },
          "metadata": {}
        }
      ]
    },
    {
      "cell_type": "code",
      "source": [
        "table5= freq_tbl(LL['accident'])\n",
        "table5"
      ],
      "metadata": {
        "id": "HvXHktH6gaKQ"
      },
      "execution_count": null,
      "outputs": []
    },
    {
      "cell_type": "code",
      "source": [
        "Filtro5= table5[table3['frequency']>1]\n",
        "Filtro5"
      ],
      "metadata": {
        "id": "05MjYLX7g69d"
      },
      "execution_count": null,
      "outputs": []
    },
    {
      "cell_type": "code",
      "source": [
        "Filtro5_index= Filtro5.set_index('accident')\n",
        "Filtro5_index"
      ],
      "metadata": {
        "id": "1IUy2Vqag6yx"
      },
      "execution_count": null,
      "outputs": []
    },
    {
      "cell_type": "code",
      "source": [
        "#Realizamos grafico de pastel del dataframe filtrado\n",
        "Filtro5_index[\"frequency\"].plot(kind='pie', figsize=(10,5), shadow=True, autopct=\"%0.1f %%\")"
      ],
      "metadata": {
        "colab": {
          "base_uri": "https://localhost:8080/",
          "height": 320
        },
        "id": "oJG51Rvzg6l6",
        "outputId": "9a3070e9-a164-49e2-e807-80db5a203d91"
      },
      "execution_count": 195,
      "outputs": [
        {
          "output_type": "execute_result",
          "data": {
            "text/plain": [
              "<matplotlib.axes._subplots.AxesSubplot at 0x7fc96101fed0>"
            ]
          },
          "metadata": {},
          "execution_count": 195
        },
        {
          "output_type": "display_data",
          "data": {
            "text/plain": [
              "<Figure size 720x360 with 1 Axes>"
            ],
            "image/png": "[encoded data removed]"
          },
          "metadata": {}
        }
      ]
    }
  ]
}